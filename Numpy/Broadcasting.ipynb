{
  "nbformat": 4,
  "nbformat_minor": 0,
  "metadata": {
    "kernelspec": {
      "name": "python3",
      "display_name": "Python 3"
    },
    "colab": {
      "name": "Broadcasting.ipynb",
      "provenance": [],
      "include_colab_link": true
    }
  },
  "cells": [
    {
      "cell_type": "markdown",
      "metadata": {
        "id": "view-in-github",
        "colab_type": "text"
      },
      "source": [
        "<a href=\"https://colab.research.google.com/github/jsrader77014/MachineLearing/blob/master/Numpy/Broadcasting.ipynb\" target=\"_parent\"><img src=\"https://colab.research.google.com/assets/colab-badge.svg\" alt=\"Open In Colab\"/></a>"
      ]
    },
    {
      "cell_type": "markdown",
      "metadata": {
        "id": "dcjxlcm5Elfp",
        "colab_type": "text"
      },
      "source": [
        "<h1>Broadcasting</h1>"
      ]
    },
    {
      "cell_type": "code",
      "metadata": {
        "id": "2xPch9g7Elfr",
        "colab_type": "code",
        "colab": {}
      },
      "source": [
        "import numpy as np"
      ],
      "execution_count": 1,
      "outputs": []
    },
    {
      "cell_type": "code",
      "metadata": {
        "id": "tBT3FG2UElfx",
        "colab_type": "code",
        "colab": {
          "base_uri": "https://localhost:8080/",
          "height": 272
        },
        "outputId": "887e67eb-a072-4d11-a5ea-724d7e764c74"
      },
      "source": [
        "my_3D_array = np.arange(70)\n",
        "my_3D_array.shape = (2,7,5)\n",
        "my_3D_array"
      ],
      "execution_count": 2,
      "outputs": [
        {
          "output_type": "execute_result",
          "data": {
            "text/plain": [
              "array([[[ 0,  1,  2,  3,  4],\n",
              "        [ 5,  6,  7,  8,  9],\n",
              "        [10, 11, 12, 13, 14],\n",
              "        [15, 16, 17, 18, 19],\n",
              "        [20, 21, 22, 23, 24],\n",
              "        [25, 26, 27, 28, 29],\n",
              "        [30, 31, 32, 33, 34]],\n",
              "\n",
              "       [[35, 36, 37, 38, 39],\n",
              "        [40, 41, 42, 43, 44],\n",
              "        [45, 46, 47, 48, 49],\n",
              "        [50, 51, 52, 53, 54],\n",
              "        [55, 56, 57, 58, 59],\n",
              "        [60, 61, 62, 63, 64],\n",
              "        [65, 66, 67, 68, 69]]])"
            ]
          },
          "metadata": {
            "tags": []
          },
          "execution_count": 2
        }
      ]
    },
    {
      "cell_type": "code",
      "metadata": {
        "id": "1klX73exE1Ve",
        "colab_type": "code",
        "colab": {
          "base_uri": "https://localhost:8080/",
          "height": 34
        },
        "outputId": "0b1a3ba6-4f9d-49c1-ff6f-e2f7b0f9bfab"
      },
      "source": [
        "#shape\n",
        "my_3D_array.shape"
      ],
      "execution_count": 4,
      "outputs": [
        {
          "output_type": "execute_result",
          "data": {
            "text/plain": [
              "(2, 7, 5)"
            ]
          },
          "metadata": {
            "tags": []
          },
          "execution_count": 4
        }
      ]
    },
    {
      "cell_type": "code",
      "metadata": {
        "id": "8zrBE8e_FRwU",
        "colab_type": "code",
        "colab": {
          "base_uri": "https://localhost:8080/",
          "height": 34
        },
        "outputId": "a3a53d5d-b24f-4888-c3ea-9b00b159626f"
      },
      "source": [
        "#number of dimensions\n",
        "my_3D_array.ndim"
      ],
      "execution_count": 6,
      "outputs": [
        {
          "output_type": "execute_result",
          "data": {
            "text/plain": [
              "3"
            ]
          },
          "metadata": {
            "tags": []
          },
          "execution_count": 6
        }
      ]
    },
    {
      "cell_type": "code",
      "metadata": {
        "id": "PwoxZ8ITFYHK",
        "colab_type": "code",
        "colab": {
          "base_uri": "https://localhost:8080/",
          "height": 34
        },
        "outputId": "b4328439-4fe0-4562-f8e2-2ac1a8d824e4"
      },
      "source": [
        "#size\n",
        "my_3D_array.size"
      ],
      "execution_count": 7,
      "outputs": [
        {
          "output_type": "execute_result",
          "data": {
            "text/plain": [
              "70"
            ]
          },
          "metadata": {
            "tags": []
          },
          "execution_count": 7
        }
      ]
    },
    {
      "cell_type": "code",
      "metadata": {
        "id": "MWQKWHvuFi8R",
        "colab_type": "code",
        "colab": {
          "base_uri": "https://localhost:8080/",
          "height": 34
        },
        "outputId": "5a2f77a7-c1ae-4f04-971a-3d22599d5dfa"
      },
      "source": [
        "#data type for each element\n",
        "my_3D_array.dtype"
      ],
      "execution_count": 8,
      "outputs": [
        {
          "output_type": "execute_result",
          "data": {
            "text/plain": [
              "dtype('int64')"
            ]
          },
          "metadata": {
            "tags": []
          },
          "execution_count": 8
        }
      ]
    },
    {
      "cell_type": "code",
      "metadata": {
        "id": "gl1J06HDFsFA",
        "colab_type": "code",
        "colab": {
          "base_uri": "https://localhost:8080/",
          "height": 272
        },
        "outputId": "bce3fa2f-2d08-4749-8e79-8bfe8ac84695"
      },
      "source": [
        "5 * my_3D_array -2"
      ],
      "execution_count": 9,
      "outputs": [
        {
          "output_type": "execute_result",
          "data": {
            "text/plain": [
              "array([[[ -2,   3,   8,  13,  18],\n",
              "        [ 23,  28,  33,  38,  43],\n",
              "        [ 48,  53,  58,  63,  68],\n",
              "        [ 73,  78,  83,  88,  93],\n",
              "        [ 98, 103, 108, 113, 118],\n",
              "        [123, 128, 133, 138, 143],\n",
              "        [148, 153, 158, 163, 168]],\n",
              "\n",
              "       [[173, 178, 183, 188, 193],\n",
              "        [198, 203, 208, 213, 218],\n",
              "        [223, 228, 233, 238, 243],\n",
              "        [248, 253, 258, 263, 268],\n",
              "        [273, 278, 283, 288, 293],\n",
              "        [298, 303, 308, 313, 318],\n",
              "        [323, 328, 333, 338, 343]]])"
            ]
          },
          "metadata": {
            "tags": []
          },
          "execution_count": 9
        }
      ]
    },
    {
      "cell_type": "code",
      "metadata": {
        "id": "HXtO8ufNF5Zn",
        "colab_type": "code",
        "colab": {
          "base_uri": "https://localhost:8080/",
          "height": 102
        },
        "outputId": "0c1c3da5-6041-4958-ed03-e9b7d8d98c3b"
      },
      "source": [
        "left_mat = np.arange(6).reshape((2,3))\n",
        "right_mat = np.arange(15).reshape((3,5))\n",
        "print(left_mat)\n",
        "print(right_mat)"
      ],
      "execution_count": 20,
      "outputs": [
        {
          "output_type": "stream",
          "text": [
            "[[0 1 2]\n",
            " [3 4 5]]\n",
            "[[ 0  1  2  3  4]\n",
            " [ 5  6  7  8  9]\n",
            " [10 11 12 13 14]]\n"
          ],
          "name": "stdout"
        }
      ]
    },
    {
      "cell_type": "code",
      "metadata": {
        "id": "Tz2djj0sGPwW",
        "colab_type": "code",
        "colab": {
          "base_uri": "https://localhost:8080/",
          "height": 199
        },
        "outputId": "7678070b-4733-498c-d99a-610b516b78ed"
      },
      "source": [
        "np.inner(left_mat,right_mat)"
      ],
      "execution_count": 21,
      "outputs": [
        {
          "output_type": "error",
          "ename": "ValueError",
          "evalue": "ignored",
          "traceback": [
            "\u001b[0;31m---------------------------------------------------------------------------\u001b[0m",
            "\u001b[0;31mValueError\u001b[0m                                Traceback (most recent call last)",
            "\u001b[0;32m<ipython-input-21-df900b31c071>\u001b[0m in \u001b[0;36m<module>\u001b[0;34m()\u001b[0m\n\u001b[0;32m----> 1\u001b[0;31m \u001b[0mnp\u001b[0m\u001b[0;34m.\u001b[0m\u001b[0minner\u001b[0m\u001b[0;34m(\u001b[0m\u001b[0mleft_mat\u001b[0m\u001b[0;34m,\u001b[0m\u001b[0mright_mat\u001b[0m\u001b[0;34m)\u001b[0m\u001b[0;34m\u001b[0m\u001b[0;34m\u001b[0m\u001b[0m\n\u001b[0m",
            "\u001b[0;32m<__array_function__ internals>\u001b[0m in \u001b[0;36minner\u001b[0;34m(*args, **kwargs)\u001b[0m\n",
            "\u001b[0;31mValueError\u001b[0m: shapes (2,3) and (5,3) not aligned: 3 (dim 1) != 5 (dim 0)"
          ]
        }
      ]
    },
    {
      "cell_type": "code",
      "metadata": {
        "id": "eCMVnVGIGkzk",
        "colab_type": "code",
        "colab": {
          "base_uri": "https://localhost:8080/",
          "height": 51
        },
        "outputId": "da9b9428-4be9-4dda-dd40-14262ff11fe9"
      },
      "source": [
        "np.dot(left_mat,right_mat)"
      ],
      "execution_count": 22,
      "outputs": [
        {
          "output_type": "execute_result",
          "data": {
            "text/plain": [
              "array([[ 25,  28,  31,  34,  37],\n",
              "       [ 70,  82,  94, 106, 118]])"
            ]
          },
          "metadata": {
            "tags": []
          },
          "execution_count": 22
        }
      ]
    },
    {
      "cell_type": "markdown",
      "metadata": {
        "id": "6GAvZb4NRAeX",
        "colab_type": "text"
      },
      "source": [
        "###Operations along axes"
      ]
    },
    {
      "cell_type": "code",
      "metadata": {
        "id": "JmjbYIjWG5Kx",
        "colab_type": "code",
        "colab": {
          "base_uri": "https://localhost:8080/",
          "height": 272
        },
        "outputId": "5145bcee-8a27-49bb-e165-287802d7ef91"
      },
      "source": [
        "my_3D_array"
      ],
      "execution_count": 23,
      "outputs": [
        {
          "output_type": "execute_result",
          "data": {
            "text/plain": [
              "array([[[ 0,  1,  2,  3,  4],\n",
              "        [ 5,  6,  7,  8,  9],\n",
              "        [10, 11, 12, 13, 14],\n",
              "        [15, 16, 17, 18, 19],\n",
              "        [20, 21, 22, 23, 24],\n",
              "        [25, 26, 27, 28, 29],\n",
              "        [30, 31, 32, 33, 34]],\n",
              "\n",
              "       [[35, 36, 37, 38, 39],\n",
              "        [40, 41, 42, 43, 44],\n",
              "        [45, 46, 47, 48, 49],\n",
              "        [50, 51, 52, 53, 54],\n",
              "        [55, 56, 57, 58, 59],\n",
              "        [60, 61, 62, 63, 64],\n",
              "        [65, 66, 67, 68, 69]]])"
            ]
          },
          "metadata": {
            "tags": []
          },
          "execution_count": 23
        }
      ]
    },
    {
      "cell_type": "code",
      "metadata": {
        "id": "anErxNGyRQoy",
        "colab_type": "code",
        "colab": {
          "base_uri": "https://localhost:8080/",
          "height": 34
        },
        "outputId": "1c26121a-4a6f-4fb7-ca10-5aee0af047d3"
      },
      "source": [
        "my_3D_array.shape"
      ],
      "execution_count": 24,
      "outputs": [
        {
          "output_type": "execute_result",
          "data": {
            "text/plain": [
              "(2, 7, 5)"
            ]
          },
          "metadata": {
            "tags": []
          },
          "execution_count": 24
        }
      ]
    },
    {
      "cell_type": "code",
      "metadata": {
        "id": "3uNnAxWwRhTI",
        "colab_type": "code",
        "colab": {
          "base_uri": "https://localhost:8080/",
          "height": 34
        },
        "outputId": "8b97a552-825d-4641-9a0d-dabe9f4c6b81"
      },
      "source": [
        "my_3D_array.sum()"
      ],
      "execution_count": 25,
      "outputs": [
        {
          "output_type": "execute_result",
          "data": {
            "text/plain": [
              "2415"
            ]
          },
          "metadata": {
            "tags": []
          },
          "execution_count": 25
        }
      ]
    },
    {
      "cell_type": "markdown",
      "metadata": {
        "colab_type": "text",
        "id": "p-H06dQ8UflD"
      },
      "source": [
        "$\\frac{n(n+1)}{2}$\n"
      ]
    },
    {
      "cell_type": "code",
      "metadata": {
        "id": "FXpNoTRmRpCP",
        "colab_type": "code",
        "colab": {
          "base_uri": "https://localhost:8080/",
          "height": 34
        },
        "outputId": "92c8c0d4-a957-465c-fe2f-f5afaddfc0ff"
      },
      "source": [
        "n = 69\n",
        "(n*(n+1))/2"
      ],
      "execution_count": 33,
      "outputs": [
        {
          "output_type": "execute_result",
          "data": {
            "text/plain": [
              "2415.0"
            ]
          },
          "metadata": {
            "tags": []
          },
          "execution_count": 33
        }
      ]
    },
    {
      "cell_type": "code",
      "metadata": {
        "id": "ANZTQFi_Wh6G",
        "colab_type": "code",
        "colab": {
          "base_uri": "https://localhost:8080/",
          "height": 136
        },
        "outputId": "697bb1dc-599c-4bf8-8e3b-f544bdc9c80d"
      },
      "source": [
        "my_3D_array.sum(axis=0)"
      ],
      "execution_count": 34,
      "outputs": [
        {
          "output_type": "execute_result",
          "data": {
            "text/plain": [
              "array([[ 35,  37,  39,  41,  43],\n",
              "       [ 45,  47,  49,  51,  53],\n",
              "       [ 55,  57,  59,  61,  63],\n",
              "       [ 65,  67,  69,  71,  73],\n",
              "       [ 75,  77,  79,  81,  83],\n",
              "       [ 85,  87,  89,  91,  93],\n",
              "       [ 95,  97,  99, 101, 103]])"
            ]
          },
          "metadata": {
            "tags": []
          },
          "execution_count": 34
        }
      ]
    },
    {
      "cell_type": "code",
      "metadata": {
        "id": "6CYTaZa-Wns3",
        "colab_type": "code",
        "colab": {
          "base_uri": "https://localhost:8080/",
          "height": 51
        },
        "outputId": "73499e75-30c7-472f-b289-bfed8c4974d6"
      },
      "source": [
        "my_3D_array.sum(axis=1)"
      ],
      "execution_count": 36,
      "outputs": [
        {
          "output_type": "execute_result",
          "data": {
            "text/plain": [
              "array([[105, 112, 119, 126, 133],\n",
              "       [350, 357, 364, 371, 378]])"
            ]
          },
          "metadata": {
            "tags": []
          },
          "execution_count": 36
        }
      ]
    },
    {
      "cell_type": "code",
      "metadata": {
        "id": "3p4X3PXhW4ce",
        "colab_type": "code",
        "colab": {
          "base_uri": "https://localhost:8080/",
          "height": 51
        },
        "outputId": "91161806-497e-4b85-ce07-921d2018b8c0"
      },
      "source": [
        "my_3D_array.sum(axis=2)"
      ],
      "execution_count": 37,
      "outputs": [
        {
          "output_type": "execute_result",
          "data": {
            "text/plain": [
              "array([[ 10,  35,  60,  85, 110, 135, 160],\n",
              "       [185, 210, 235, 260, 285, 310, 335]])"
            ]
          },
          "metadata": {
            "tags": []
          },
          "execution_count": 37
        }
      ]
    },
    {
      "cell_type": "markdown",
      "metadata": {
        "id": "7uXhkU0rX9fI",
        "colab_type": "text"
      },
      "source": [
        "# Broadcasting Rules"
      ]
    },
    {
      "cell_type": "code",
      "metadata": {
        "id": "9xdsDN7OXtyB",
        "colab_type": "code",
        "colab": {
          "base_uri": "https://localhost:8080/",
          "height": 136
        },
        "outputId": "3ba01da9-89fa-424b-da99-210ccaf65507"
      },
      "source": [
        "my_2D_array = np.ones(35, dtype='int_').reshape((7,5)) *3\n",
        "my_2D_array"
      ],
      "execution_count": 40,
      "outputs": [
        {
          "output_type": "execute_result",
          "data": {
            "text/plain": [
              "array([[3, 3, 3, 3, 3],\n",
              "       [3, 3, 3, 3, 3],\n",
              "       [3, 3, 3, 3, 3],\n",
              "       [3, 3, 3, 3, 3],\n",
              "       [3, 3, 3, 3, 3],\n",
              "       [3, 3, 3, 3, 3],\n",
              "       [3, 3, 3, 3, 3]])"
            ]
          },
          "metadata": {
            "tags": []
          },
          "execution_count": 40
        }
      ]
    },
    {
      "cell_type": "code",
      "metadata": {
        "id": "XIjQX797YbI-",
        "colab_type": "code",
        "colab": {
          "base_uri": "https://localhost:8080/",
          "height": 136
        },
        "outputId": "2a78e662-47db-4ea4-a866-9494e84be6f6"
      },
      "source": [
        "my_random_2D_array = np.random.random((7,5))\n",
        "my_random_2D_array"
      ],
      "execution_count": 42,
      "outputs": [
        {
          "output_type": "execute_result",
          "data": {
            "text/plain": [
              "array([[0.48667517, 0.33978467, 0.94593296, 0.10729277, 0.89294936],\n",
              "       [0.6824016 , 0.67929476, 0.29170735, 0.84491741, 0.62414833],\n",
              "       [0.75220717, 0.96627972, 0.87503287, 0.9199312 , 0.25244318],\n",
              "       [0.28635125, 0.59306734, 0.06106292, 0.32057059, 0.42692292],\n",
              "       [0.71075133, 0.2685559 , 0.86247537, 0.61116563, 0.52975732],\n",
              "       [0.44852627, 0.3127697 , 0.78137267, 0.88877432, 0.51655276],\n",
              "       [0.87066803, 0.8666667 , 0.40636905, 0.97783931, 0.57942117]])"
            ]
          },
          "metadata": {
            "tags": []
          },
          "execution_count": 42
        }
      ]
    },
    {
      "cell_type": "code",
      "metadata": {
        "id": "Y20k0sszYver",
        "colab_type": "code",
        "colab": {
          "base_uri": "https://localhost:8080/",
          "height": 272
        },
        "outputId": "4aef66a3-9af5-4302-a985-248dcbb859bc"
      },
      "source": [
        "np.set_printoptions(precision=4)\n",
        "my_3D_array * my_random_2D_array"
      ],
      "execution_count": 45,
      "outputs": [
        {
          "output_type": "execute_result",
          "data": {
            "text/plain": [
              "array([[[ 0.    ,  0.3398,  1.8919,  0.3219,  3.5718],\n",
              "        [ 3.412 ,  4.0758,  2.042 ,  6.7593,  5.6173],\n",
              "        [ 7.5221, 10.6291, 10.5004, 11.9591,  3.5342],\n",
              "        [ 4.2953,  9.4891,  1.0381,  5.7703,  8.1115],\n",
              "        [14.215 ,  5.6397, 18.9745, 14.0568, 12.7142],\n",
              "        [11.2132,  8.132 , 21.0971, 24.8857, 14.98  ],\n",
              "        [26.12  , 26.8667, 13.0038, 32.2687, 19.7003]],\n",
              "\n",
              "       [[17.0336, 12.2322, 34.9995,  4.0771, 34.825 ],\n",
              "        [27.2961, 27.8511, 12.2517, 36.3314, 27.4625],\n",
              "        [33.8493, 44.4489, 41.1265, 44.1567, 12.3697],\n",
              "        [14.3176, 30.2464,  3.1753, 16.9902, 23.0538],\n",
              "        [39.0913, 15.0391, 49.1611, 35.4476, 31.2557],\n",
              "        [26.9116, 19.079 , 48.4451, 55.9928, 33.0594],\n",
              "        [56.5934, 57.2   , 27.2267, 66.4931, 39.9801]]])"
            ]
          },
          "metadata": {
            "tags": []
          },
          "execution_count": 45
        }
      ]
    },
    {
      "cell_type": "code",
      "metadata": {
        "id": "gKCZL5t3ZIho",
        "colab_type": "code",
        "colab": {
          "base_uri": "https://localhost:8080/",
          "height": 34
        },
        "outputId": "afddf8ab-b16f-4509-e19b-f1d10e289fd7"
      },
      "source": [
        "my_vector = np.arange(5)*7\n",
        "my_vector[0]=-1\n",
        "my_vector"
      ],
      "execution_count": 48,
      "outputs": [
        {
          "output_type": "execute_result",
          "data": {
            "text/plain": [
              "array([-1,  7, 14, 21, 28])"
            ]
          },
          "metadata": {
            "tags": []
          },
          "execution_count": 48
        }
      ]
    },
    {
      "cell_type": "code",
      "metadata": {
        "id": "PQEmjA_-Zkve",
        "colab_type": "code",
        "colab": {
          "base_uri": "https://localhost:8080/",
          "height": 272
        },
        "outputId": "17c4fb4f-f134-4f06-da41-486ad5bb39b3"
      },
      "source": [
        "my_3D_array/my_vector"
      ],
      "execution_count": 49,
      "outputs": [
        {
          "output_type": "execute_result",
          "data": {
            "text/plain": [
              "array([[[ -0.    ,   0.1429,   0.1429,   0.1429,   0.1429],\n",
              "        [ -5.    ,   0.8571,   0.5   ,   0.381 ,   0.3214],\n",
              "        [-10.    ,   1.5714,   0.8571,   0.619 ,   0.5   ],\n",
              "        [-15.    ,   2.2857,   1.2143,   0.8571,   0.6786],\n",
              "        [-20.    ,   3.    ,   1.5714,   1.0952,   0.8571],\n",
              "        [-25.    ,   3.7143,   1.9286,   1.3333,   1.0357],\n",
              "        [-30.    ,   4.4286,   2.2857,   1.5714,   1.2143]],\n",
              "\n",
              "       [[-35.    ,   5.1429,   2.6429,   1.8095,   1.3929],\n",
              "        [-40.    ,   5.8571,   3.    ,   2.0476,   1.5714],\n",
              "        [-45.    ,   6.5714,   3.3571,   2.2857,   1.75  ],\n",
              "        [-50.    ,   7.2857,   3.7143,   2.5238,   1.9286],\n",
              "        [-55.    ,   8.    ,   4.0714,   2.7619,   2.1071],\n",
              "        [-60.    ,   8.7143,   4.4286,   3.    ,   2.2857],\n",
              "        [-65.    ,   9.4286,   4.7857,   3.2381,   2.4643]]])"
            ]
          },
          "metadata": {
            "tags": []
          },
          "execution_count": 49
        }
      ]
    },
    {
      "cell_type": "code",
      "metadata": {
        "id": "g2osZ4MdZyLO",
        "colab_type": "code",
        "colab": {}
      },
      "source": [
        ""
      ],
      "execution_count": null,
      "outputs": []
    }
  ]
}
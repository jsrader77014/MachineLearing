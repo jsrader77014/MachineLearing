{
  "nbformat": 4,
  "nbformat_minor": 0,
  "metadata": {
    "kernelspec": {
      "name": "python3",
      "display_name": "Python 3"
    },
    "colab": {
      "name": "Arrays.ipynb",
      "provenance": [],
      "include_colab_link": true
    }
  },
  "cells": [
    {
      "cell_type": "markdown",
      "metadata": {
        "id": "view-in-github",
        "colab_type": "text"
      },
      "source": [
        "<a href=\"https://colab.research.google.com/github/jsrader77014/MachineLearing/blob/master/Numpy/Arrays.ipynb\" target=\"_parent\"><img src=\"https://colab.research.google.com/assets/colab-badge.svg\" alt=\"Open In Colab\"/></a>"
      ]
    },
    {
      "cell_type": "markdown",
      "metadata": {
        "id": "32py0sVf0Kjd",
        "colab_type": "text"
      },
      "source": [
        "<h1>Create NumPy arrays using Python's \"array like\" data types</h1>\n"
      ]
    },
    {
      "cell_type": "code",
      "metadata": {
        "id": "4FNASG2-0Mup",
        "colab_type": "code",
        "colab": {}
      },
      "source": [
        "import numpy as np"
      ],
      "execution_count": 1,
      "outputs": []
    },
    {
      "cell_type": "code",
      "metadata": {
        "id": "NfXV-PP10UGG",
        "colab_type": "code",
        "colab": {
          "base_uri": "https://localhost:8080/",
          "height": 34
        },
        "outputId": "06abe868-7d8f-4643-ee8f-36082e11fb13"
      },
      "source": [
        "print(np.__version__)"
      ],
      "execution_count": 2,
      "outputs": [
        {
          "output_type": "stream",
          "text": [
            "1.18.5\n"
          ],
          "name": "stdout"
        }
      ]
    },
    {
      "cell_type": "code",
      "metadata": {
        "id": "8btIsC7_0tCK",
        "colab_type": "code",
        "colab": {
          "base_uri": "https://localhost:8080/",
          "height": 34
        },
        "outputId": "0c78eac4-89e2-477e-f4de-896aefb87feb"
      },
      "source": [
        "mylist = [-17,0,4,5,9]\n",
        "my_array_from_list = np.array(mylist)\n",
        "my_array_from_list"
      ],
      "execution_count": 5,
      "outputs": [
        {
          "output_type": "execute_result",
          "data": {
            "text/plain": [
              "array([-17,   0,   4,   5,   9])"
            ]
          },
          "metadata": {
            "tags": []
          },
          "execution_count": 5
        }
      ]
    },
    {
      "cell_type": "code",
      "metadata": {
        "id": "Eo8b8IVO0_zY",
        "colab_type": "code",
        "colab": {
          "base_uri": "https://localhost:8080/",
          "height": 34
        },
        "outputId": "a21f44f4-b3ae-4491-f82a-66704ad45522"
      },
      "source": [
        "my_array_from_list*10"
      ],
      "execution_count": 6,
      "outputs": [
        {
          "output_type": "execute_result",
          "data": {
            "text/plain": [
              "array([-170,    0,   40,   50,   90])"
            ]
          },
          "metadata": {
            "tags": []
          },
          "execution_count": 6
        }
      ]
    },
    {
      "cell_type": "code",
      "metadata": {
        "id": "M8IeoKkq1xvr",
        "colab_type": "code",
        "colab": {
          "base_uri": "https://localhost:8080/",
          "height": 34
        },
        "outputId": "c0cf1ef7-1db9-4dd3-83eb-f43eabc6363d"
      },
      "source": [
        "my_tuple =(14,-3.54,5+7)\n",
        "np.array(my_tuple)\n"
      ],
      "execution_count": 9,
      "outputs": [
        {
          "output_type": "execute_result",
          "data": {
            "text/plain": [
              "array([14.  , -3.54, 12.  ])"
            ]
          },
          "metadata": {
            "tags": []
          },
          "execution_count": 9
        }
      ]
    },
    {
      "cell_type": "markdown",
      "metadata": {
        "id": "i97x-xH22iTj",
        "colab_type": "text"
      },
      "source": [
        "### Diffrence between python and nupy data structures"
      ]
    },
    {
      "cell_type": "code",
      "metadata": {
        "id": "mUzCPlnd1-Cq",
        "colab_type": "code",
        "colab": {
          "base_uri": "https://localhost:8080/",
          "height": 323
        },
        "outputId": "19a2a870-2217-46a4-a76d-d83a38f993ca"
      },
      "source": [
        "my_tuple * 6"
      ],
      "execution_count": 10,
      "outputs": [
        {
          "output_type": "execute_result",
          "data": {
            "text/plain": [
              "(14,\n",
              " -3.54,\n",
              " 12,\n",
              " 14,\n",
              " -3.54,\n",
              " 12,\n",
              " 14,\n",
              " -3.54,\n",
              " 12,\n",
              " 14,\n",
              " -3.54,\n",
              " 12,\n",
              " 14,\n",
              " -3.54,\n",
              " 12,\n",
              " 14,\n",
              " -3.54,\n",
              " 12)"
            ]
          },
          "metadata": {
            "tags": []
          },
          "execution_count": 10
        }
      ]
    },
    {
      "cell_type": "code",
      "metadata": {
        "id": "DRCkNUsL2rTn",
        "colab_type": "code",
        "colab": {
          "base_uri": "https://localhost:8080/",
          "height": 34
        },
        "outputId": "9e532cfe-38e0-45d0-ac73-086a4c19b74e"
      },
      "source": [
        "np.array(my_tuple) * 6"
      ],
      "execution_count": 11,
      "outputs": [
        {
          "output_type": "execute_result",
          "data": {
            "text/plain": [
              "array([ 84.  , -21.24,  72.  ])"
            ]
          },
          "metadata": {
            "tags": []
          },
          "execution_count": 11
        }
      ]
    },
    {
      "cell_type": "code",
      "metadata": {
        "id": "XbDsHzHB2xSF",
        "colab_type": "code",
        "colab": {}
      },
      "source": [
        ""
      ],
      "execution_count": null,
      "outputs": []
    }
  ]
}
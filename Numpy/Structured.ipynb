{
  "nbformat": 4,
  "nbformat_minor": 0,
  "metadata": {
    "kernelspec": {
      "display_name": "Python 2",
      "language": "python",
      "name": "python2"
    },
    "language_info": {
      "codemirror_mode": {
        "name": "ipython",
        "version": 2
      },
      "file_extension": ".py",
      "mimetype": "text/x-python",
      "name": "python",
      "nbconvert_exporter": "python",
      "pygments_lexer": "ipython2",
      "version": "2.7.11"
    },
    "colab": {
      "name": "Structured.ipynb",
      "provenance": [],
      "include_colab_link": true
    }
  },
  "cells": [
    {
      "cell_type": "markdown",
      "metadata": {
        "id": "view-in-github",
        "colab_type": "text"
      },
      "source": [
        "<a href=\"https://colab.research.google.com/github/jsrader77014/MachineLearing/blob/master/Numpy/Structured.ipynb\" target=\"_parent\"><img src=\"https://colab.research.google.com/assets/colab-badge.svg\" alt=\"Open In Colab\"/></a>"
      ]
    },
    {
      "cell_type": "markdown",
      "metadata": {
        "id": "gYIM7t-CaLuB",
        "colab_type": "text"
      },
      "source": [
        "<h1>Creating Structured Arrays</h1>"
      ]
    },
    {
      "cell_type": "code",
      "metadata": {
        "id": "vFQcKr0kaLuD",
        "colab_type": "code",
        "colab": {}
      },
      "source": [
        "import numpy as np"
      ],
      "execution_count": 1,
      "outputs": []
    },
    {
      "cell_type": "code",
      "metadata": {
        "id": "NiQaZKi1aLuK",
        "colab_type": "code",
        "colab": {
          "base_uri": "https://localhost:8080/",
          "height": 34
        },
        "outputId": "60e1cef6-ff66-427a-aaf6-4618816dbd3f"
      },
      "source": [
        "person_data_def = [('name','S6'),('height','f8'),('weight','f8'), ('age', 'i8')]\n",
        "person_data_def"
      ],
      "execution_count": 2,
      "outputs": [
        {
          "output_type": "execute_result",
          "data": {
            "text/plain": [
              "[('name', 'S6'), ('height', 'f8'), ('weight', 'f8'), ('age', 'i8')]"
            ]
          },
          "metadata": {
            "tags": []
          },
          "execution_count": 2
        }
      ]
    },
    {
      "cell_type": "code",
      "metadata": {
        "id": "mXQC0k-faNLz",
        "colab_type": "code",
        "colab": {
          "base_uri": "https://localhost:8080/",
          "height": 51
        },
        "outputId": "e3e0373e-d8c0-43a8-fa29-9f3ce737fd95"
      },
      "source": [
        "people_array = np.zeros((4), dtype=person_data_def)\n",
        "\n",
        "people_array"
      ],
      "execution_count": 3,
      "outputs": [
        {
          "output_type": "execute_result",
          "data": {
            "text/plain": [
              "array([('', 0., 0., 0), ('', 0., 0., 0), ('', 0., 0., 0), ('', 0., 0., 0)],\n",
              "      dtype=[('name', 'S6'), ('height', '<f8'), ('weight', '<f8'), ('age', '<i8')])"
            ]
          },
          "metadata": {
            "tags": []
          },
          "execution_count": 3
        }
      ]
    },
    {
      "cell_type": "code",
      "metadata": {
        "id": "4wDH2sGrbnzF",
        "colab_type": "code",
        "colab": {
          "base_uri": "https://localhost:8080/",
          "height": 68
        },
        "outputId": "d89b279d-e4ff-491e-ce34-d5e814d617d5"
      },
      "source": [
        "people_array[3]=('Delta',73,205,34)\n",
        "people_array[0]=('Alpha',65,112,23)\n",
        "\n",
        "people_array"
      ],
      "execution_count": 4,
      "outputs": [
        {
          "output_type": "execute_result",
          "data": {
            "text/plain": [
              "array([('Alpha', 65., 112., 23), ('',  0.,   0.,  0), ('',  0.,   0.,  0),\n",
              "       ('Delta', 73., 205., 34)],\n",
              "      dtype=[('name', 'S6'), ('height', '<f8'), ('weight', '<f8'), ('age', '<i8')])"
            ]
          },
          "metadata": {
            "tags": []
          },
          "execution_count": 4
        }
      ]
    },
    {
      "cell_type": "code",
      "metadata": {
        "id": "hZ6MB4gkcFWG",
        "colab_type": "code",
        "colab": {
          "base_uri": "https://localhost:8080/",
          "height": 68
        },
        "outputId": "4664d2d3-d196-4dd7-c19b-afda78e4beb1"
      },
      "source": [
        "people_array[0:]"
      ],
      "execution_count": 5,
      "outputs": [
        {
          "output_type": "execute_result",
          "data": {
            "text/plain": [
              "array([('Alpha', 65., 112., 23), ('',  0.,   0.,  0), ('',  0.,   0.,  0),\n",
              "       ('Delta', 73., 205., 34)],\n",
              "      dtype=[('name', 'S6'), ('height', '<f8'), ('weight', '<f8'), ('age', '<i8')])"
            ]
          },
          "metadata": {
            "tags": []
          },
          "execution_count": 5
        }
      ]
    },
    {
      "cell_type": "code",
      "metadata": {
        "id": "Hrh3l0oCcQhF",
        "colab_type": "code",
        "colab": {
          "base_uri": "https://localhost:8080/",
          "height": 34
        },
        "outputId": "0ffa1615-97b4-4d0f-9fec-52441498a534"
      },
      "source": [
        "ages = people_array['age']\n",
        "ages\n"
      ],
      "execution_count": 6,
      "outputs": [
        {
          "output_type": "execute_result",
          "data": {
            "text/plain": [
              "array([23,  0,  0, 34])"
            ]
          },
          "metadata": {
            "tags": []
          },
          "execution_count": 6
        }
      ]
    },
    {
      "cell_type": "code",
      "metadata": {
        "id": "MuUe0bXncaR1",
        "colab_type": "code",
        "colab": {
          "base_uri": "https://localhost:8080/",
          "height": 34
        },
        "outputId": "559adb24-c1bb-40de-dda4-a65d69a4bc20"
      },
      "source": [
        "make_youthful = ages/2\n",
        "make_youthful\n"
      ],
      "execution_count": 9,
      "outputs": [
        {
          "output_type": "execute_result",
          "data": {
            "text/plain": [
              "array([11,  0,  0, 17])"
            ]
          },
          "metadata": {
            "tags": []
          },
          "execution_count": 9
        }
      ]
    },
    {
      "cell_type": "markdown",
      "metadata": {
        "id": "3tmn6xe6c6dY",
        "colab_type": "text"
      },
      "source": [
        "# Multi-dimensional Structured Arrays"
      ]
    },
    {
      "cell_type": "code",
      "metadata": {
        "id": "USE-fSfKcv8q",
        "colab_type": "code",
        "colab": {
          "base_uri": "https://localhost:8080/",
          "height": 289
        },
        "outputId": "902f379e-39b7-4586-8dfd-4bafc92ec768"
      },
      "source": [
        "people_big_array = np.zeros((4,3,2), dtype=person_data_def)\n",
        "people_big_array"
      ],
      "execution_count": 10,
      "outputs": [
        {
          "output_type": "execute_result",
          "data": {
            "text/plain": [
              "array([[[('', 0., 0., 0), ('', 0., 0., 0)],\n",
              "        [('', 0., 0., 0), ('', 0., 0., 0)],\n",
              "        [('', 0., 0., 0), ('', 0., 0., 0)]],\n",
              "\n",
              "       [[('', 0., 0., 0), ('', 0., 0., 0)],\n",
              "        [('', 0., 0., 0), ('', 0., 0., 0)],\n",
              "        [('', 0., 0., 0), ('', 0., 0., 0)]],\n",
              "\n",
              "       [[('', 0., 0., 0), ('', 0., 0., 0)],\n",
              "        [('', 0., 0., 0), ('', 0., 0., 0)],\n",
              "        [('', 0., 0., 0), ('', 0., 0., 0)]],\n",
              "\n",
              "       [[('', 0., 0., 0), ('', 0., 0., 0)],\n",
              "        [('', 0., 0., 0), ('', 0., 0., 0)],\n",
              "        [('', 0., 0., 0), ('', 0., 0., 0)]]],\n",
              "      dtype=[('name', 'S6'), ('height', '<f8'), ('weight', '<f8'), ('age', '<i8')])"
            ]
          },
          "metadata": {
            "tags": []
          },
          "execution_count": 10
        }
      ]
    },
    {
      "cell_type": "code",
      "metadata": {
        "id": "c1iDcFOldSWv",
        "colab_type": "code",
        "colab": {
          "base_uri": "https://localhost:8080/",
          "height": 289
        },
        "outputId": "77e3b13e-4a12-41f3-d2fa-b9636beaaef6"
      },
      "source": [
        "people_big_array[3,2,1] = ('Echo',68, 155,46)\n",
        "people_big_array"
      ],
      "execution_count": 11,
      "outputs": [
        {
          "output_type": "execute_result",
          "data": {
            "text/plain": [
              "array([[[('',  0.,   0.,  0), ('',  0.,   0.,  0)],\n",
              "        [('',  0.,   0.,  0), ('',  0.,   0.,  0)],\n",
              "        [('',  0.,   0.,  0), ('',  0.,   0.,  0)]],\n",
              "\n",
              "       [[('',  0.,   0.,  0), ('',  0.,   0.,  0)],\n",
              "        [('',  0.,   0.,  0), ('',  0.,   0.,  0)],\n",
              "        [('',  0.,   0.,  0), ('',  0.,   0.,  0)]],\n",
              "\n",
              "       [[('',  0.,   0.,  0), ('',  0.,   0.,  0)],\n",
              "        [('',  0.,   0.,  0), ('',  0.,   0.,  0)],\n",
              "        [('',  0.,   0.,  0), ('',  0.,   0.,  0)]],\n",
              "\n",
              "       [[('',  0.,   0.,  0), ('',  0.,   0.,  0)],\n",
              "        [('',  0.,   0.,  0), ('',  0.,   0.,  0)],\n",
              "        [('',  0.,   0.,  0), ('Echo', 68., 155., 46)]]],\n",
              "      dtype=[('name', 'S6'), ('height', '<f8'), ('weight', '<f8'), ('age', '<i8')])"
            ]
          },
          "metadata": {
            "tags": []
          },
          "execution_count": 11
        }
      ]
    },
    {
      "cell_type": "code",
      "metadata": {
        "id": "Hpt5RsYvd0Ds",
        "colab_type": "code",
        "colab": {
          "base_uri": "https://localhost:8080/",
          "height": 272
        },
        "outputId": "50e31c62-d35f-4728-d7cf-a84c98b0a901"
      },
      "source": [
        "people_big_array['height']"
      ],
      "execution_count": 12,
      "outputs": [
        {
          "output_type": "execute_result",
          "data": {
            "text/plain": [
              "array([[[ 0.,  0.],\n",
              "        [ 0.,  0.],\n",
              "        [ 0.,  0.]],\n",
              "\n",
              "       [[ 0.,  0.],\n",
              "        [ 0.,  0.],\n",
              "        [ 0.,  0.]],\n",
              "\n",
              "       [[ 0.,  0.],\n",
              "        [ 0.,  0.],\n",
              "        [ 0.,  0.]],\n",
              "\n",
              "       [[ 0.,  0.],\n",
              "        [ 0.,  0.],\n",
              "        [ 0., 68.]]])"
            ]
          },
          "metadata": {
            "tags": []
          },
          "execution_count": 12
        }
      ]
    },
    {
      "cell_type": "code",
      "metadata": {
        "id": "MeoldZuNeEUy",
        "colab_type": "code",
        "colab": {
          "base_uri": "https://localhost:8080/",
          "height": 289
        },
        "outputId": "818352c4-ba1a-4af3-a05d-8270708b31ed"
      },
      "source": [
        "people_big_array[['height','weight']]"
      ],
      "execution_count": 14,
      "outputs": [
        {
          "output_type": "execute_result",
          "data": {
            "text/plain": [
              "array([[[( 0.,   0.), ( 0.,   0.)],\n",
              "        [( 0.,   0.), ( 0.,   0.)],\n",
              "        [( 0.,   0.), ( 0.,   0.)]],\n",
              "\n",
              "       [[( 0.,   0.), ( 0.,   0.)],\n",
              "        [( 0.,   0.), ( 0.,   0.)],\n",
              "        [( 0.,   0.), ( 0.,   0.)]],\n",
              "\n",
              "       [[( 0.,   0.), ( 0.,   0.)],\n",
              "        [( 0.,   0.), ( 0.,   0.)],\n",
              "        [( 0.,   0.), ( 0.,   0.)]],\n",
              "\n",
              "       [[( 0.,   0.), ( 0.,   0.)],\n",
              "        [( 0.,   0.), ( 0.,   0.)],\n",
              "        [( 0.,   0.), (68., 155.)]]],\n",
              "      dtype={'names':['height','weight'], 'formats':['<f8','<f8'], 'offsets':[6,14], 'itemsize':30})"
            ]
          },
          "metadata": {
            "tags": []
          },
          "execution_count": 14
        }
      ]
    },
    {
      "cell_type": "markdown",
      "metadata": {
        "id": "1yoyHF86eSbm",
        "colab_type": "text"
      },
      "source": [
        "# Creating Record Array"
      ]
    },
    {
      "cell_type": "code",
      "metadata": {
        "id": "-eThyVoSeJoS",
        "colab_type": "code",
        "colab": {
          "base_uri": "https://localhost:8080/",
          "height": 51
        },
        "outputId": "d735743f-a436-48b0-ed85-a98283ad02df"
      },
      "source": [
        "person_record_array = np.rec.array([('Delta',73,205,34),('Alpha',65,112,23)],dtype=person_data_def)\n",
        "person_record_array"
      ],
      "execution_count": 15,
      "outputs": [
        {
          "output_type": "execute_result",
          "data": {
            "text/plain": [
              "rec.array([('Delta', 73., 205., 34), ('Alpha', 65., 112., 23)],\n",
              "          dtype=[('name', 'S6'), ('height', '<f8'), ('weight', '<f8'), ('age', '<i8')])"
            ]
          },
          "metadata": {
            "tags": []
          },
          "execution_count": 15
        }
      ]
    },
    {
      "cell_type": "code",
      "metadata": {
        "id": "1h8m6bfEfKua",
        "colab_type": "code",
        "colab": {
          "base_uri": "https://localhost:8080/",
          "height": 34
        },
        "outputId": "d838bfba-43ff-4f92-ca4c-358e38a9ce14"
      },
      "source": [
        "person_record_array[0].age"
      ],
      "execution_count": 16,
      "outputs": [
        {
          "output_type": "execute_result",
          "data": {
            "text/plain": [
              "34"
            ]
          },
          "metadata": {
            "tags": []
          },
          "execution_count": 16
        }
      ]
    },
    {
      "cell_type": "code",
      "metadata": {
        "id": "McA5iRVJfaJa",
        "colab_type": "code",
        "colab": {}
      },
      "source": [
        ""
      ],
      "execution_count": null,
      "outputs": []
    }
  ]
}
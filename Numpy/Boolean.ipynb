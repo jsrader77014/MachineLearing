{
  "nbformat": 4,
  "nbformat_minor": 0,
  "metadata": {
    "kernelspec": {
      "name": "python3",
      "display_name": "Python 3"
    },
    "colab": {
      "name": "Boolean.ipynb",
      "provenance": [],
      "include_colab_link": true
    }
  },
  "cells": [
    {
      "cell_type": "markdown",
      "metadata": {
        "id": "view-in-github",
        "colab_type": "text"
      },
      "source": [
        "<a href=\"https://colab.research.google.com/github/jsrader77014/MachineLearing/blob/master/Numpy/Boolean.ipynb\" target=\"_parent\"><img src=\"https://colab.research.google.com/assets/colab-badge.svg\" alt=\"Open In Colab\"/></a>"
      ]
    },
    {
      "cell_type": "markdown",
      "metadata": {
        "id": "Gxt1SG4KCATe",
        "colab_type": "text"
      },
      "source": [
        "#Boolean Mask Arrays"
      ]
    },
    {
      "cell_type": "code",
      "metadata": {
        "id": "D1cuWRMdCATg",
        "colab_type": "code",
        "colab": {}
      },
      "source": [
        "import numpy as np"
      ],
      "execution_count": 1,
      "outputs": []
    },
    {
      "cell_type": "code",
      "metadata": {
        "id": "tcIT1fEWCATl",
        "colab_type": "code",
        "colab": {
          "base_uri": "https://localhost:8080/",
          "height": 34
        },
        "outputId": "df13cf43-cf46-4f54-d31c-d550812e6a97"
      },
      "source": [
        "my_vector = np.array([-17, -4, 0, 2, 21, 37, 105])\n",
        "my_vector"
      ],
      "execution_count": 2,
      "outputs": [
        {
          "output_type": "execute_result",
          "data": {
            "text/plain": [
              "array([-17,  -4,   0,   2,  21,  37, 105])"
            ]
          },
          "metadata": {
            "tags": []
          },
          "execution_count": 2
        }
      ]
    },
    {
      "cell_type": "code",
      "metadata": {
        "id": "I2BtfkIbCC2v",
        "colab_type": "code",
        "colab": {
          "base_uri": "https://localhost:8080/",
          "height": 34
        },
        "outputId": "9119bf5d-779d-47a1-a0cf-3fcde9fe656b"
      },
      "source": [
        "zero_mod_7_mask = 0 ==(my_vector % 7)\n",
        "zero_mod_7_mask\n"
      ],
      "execution_count": 3,
      "outputs": [
        {
          "output_type": "execute_result",
          "data": {
            "text/plain": [
              "array([False, False,  True, False,  True, False,  True])"
            ]
          },
          "metadata": {
            "tags": []
          },
          "execution_count": 3
        }
      ]
    },
    {
      "cell_type": "code",
      "metadata": {
        "id": "TdOCHeKCCmAt",
        "colab_type": "code",
        "colab": {
          "base_uri": "https://localhost:8080/",
          "height": 34
        },
        "outputId": "280d9127-67b7-442e-c2b9-c32fdc817b17"
      },
      "source": [
        "sub_array = my_vector[zero_mod_7_mask]\n",
        "sub_array"
      ],
      "execution_count": 4,
      "outputs": [
        {
          "output_type": "execute_result",
          "data": {
            "text/plain": [
              "array([  0,  21, 105])"
            ]
          },
          "metadata": {
            "tags": []
          },
          "execution_count": 4
        }
      ]
    },
    {
      "cell_type": "code",
      "metadata": {
        "id": "hzMctU5PC06b",
        "colab_type": "code",
        "colab": {
          "base_uri": "https://localhost:8080/",
          "height": 34
        },
        "outputId": "40327bd4-e0aa-4dca-844b-110629018cc0"
      },
      "source": [
        "sub_array[sub_array>0]"
      ],
      "execution_count": 7,
      "outputs": [
        {
          "output_type": "execute_result",
          "data": {
            "text/plain": [
              "array([ 21, 105])"
            ]
          },
          "metadata": {
            "tags": []
          },
          "execution_count": 7
        }
      ]
    },
    {
      "cell_type": "markdown",
      "metadata": {
        "id": "HKAiQ8tODTkW",
        "colab_type": "text"
      },
      "source": [
        "# NumPy logical operators"
      ]
    },
    {
      "cell_type": "code",
      "metadata": {
        "id": "18XTxRHJDHgB",
        "colab_type": "code",
        "colab": {}
      },
      "source": [
        "mod_test = 0 ==(my_vector % 7)\n",
        "positive_test = my_vector > 0"
      ],
      "execution_count": 8,
      "outputs": []
    },
    {
      "cell_type": "code",
      "metadata": {
        "id": "47SnH0W5Dn1W",
        "colab_type": "code",
        "colab": {
          "base_uri": "https://localhost:8080/",
          "height": 34
        },
        "outputId": "0faac9e3-4c16-4f88-b856-ff420c9efb75"
      },
      "source": [
        "combined_mask = np.logical_and(mod_test,positive_test)\n",
        "combined_mask"
      ],
      "execution_count": 12,
      "outputs": [
        {
          "output_type": "execute_result",
          "data": {
            "text/plain": [
              "array([False, False, False, False,  True, False,  True])"
            ]
          },
          "metadata": {
            "tags": []
          },
          "execution_count": 12
        }
      ]
    },
    {
      "cell_type": "code",
      "metadata": {
        "id": "6qsrfTPaDz0V",
        "colab_type": "code",
        "colab": {
          "base_uri": "https://localhost:8080/",
          "height": 34
        },
        "outputId": "4c30cb14-e376-4bc4-8cfd-e94321a97f30"
      },
      "source": [
        "my_vector[combined_mask]"
      ],
      "execution_count": 13,
      "outputs": [
        {
          "output_type": "execute_result",
          "data": {
            "text/plain": [
              "array([ 21, 105])"
            ]
          },
          "metadata": {
            "tags": []
          },
          "execution_count": 13
        }
      ]
    },
    {
      "cell_type": "code",
      "metadata": {
        "id": "agjvDgPbEG-7",
        "colab_type": "code",
        "colab": {}
      },
      "source": [
        ""
      ],
      "execution_count": null,
      "outputs": []
    }
  ]
}
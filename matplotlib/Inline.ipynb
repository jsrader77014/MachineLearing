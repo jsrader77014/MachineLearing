{
  "nbformat": 4,
  "nbformat_minor": 0,
  "metadata": {
    "kernelspec": {
      "display_name": "Python 3",
      "language": "python",
      "name": "python3"
    },
    "language_info": {
      "codemirror_mode": {
        "name": "ipython",
        "version": 3
      },
      "file_extension": ".py",
      "mimetype": "text/x-python",
      "name": "python",
      "nbconvert_exporter": "python",
      "pygments_lexer": "ipython3",
      "version": "3.5.1"
    },
    "colab": {
      "name": "Inline.ipynb",
      "provenance": [],
      "include_colab_link": true
    }
  },
  "cells": [
    {
      "cell_type": "markdown",
      "metadata": {
        "id": "view-in-github",
        "colab_type": "text"
      },
      "source": [
        "<a href=\"https://colab.research.google.com/github/jsrader77014/MachineLearing/blob/master/matplotlib/Inline.ipynb\" target=\"_parent\"><img src=\"https://colab.research.google.com/assets/colab-badge.svg\" alt=\"Open In Colab\"/></a>"
      ]
    },
    {
      "cell_type": "code",
      "metadata": {
        "id": "D-P8HWz6gkTD",
        "colab_type": "code",
        "colab": {}
      },
      "source": [
        "%matplotlib inline"
      ],
      "execution_count": 11,
      "outputs": []
    },
    {
      "cell_type": "code",
      "metadata": {
        "id": "Rq2DlKbcgkTL",
        "colab_type": "code",
        "colab": {
          "base_uri": "https://localhost:8080/",
          "height": 295
        },
        "outputId": "68d26cb2-d130-465e-b8d7-a598e313064c"
      },
      "source": [
        "import numpy as np\n",
        "import matplotlib.pyplot as plt\n",
        "\n",
        "mu, sigma = 100, 15\n",
        "data_set = mu + sigma * np.random.randn(10000)\n",
        "# the histogram of the data\n",
        "n, bins, patches = plt.hist(data_set, 50, density=True,  facecolor='b', alpha=0.75,edgecolor='black', linewidth=1.2)\n",
        "\n",
        "plt.xlabel('Smarts')\n",
        "plt.ylabel('Probability')\n",
        "plt.title('Histogram of IQ')\n",
        "plt.text(60, .025, r'$\\mu=100,\\ \\sigma=15$')\n",
        "plt.axis([40, 160, 0, 0.03])\n",
        "plt.grid(True)\n",
        "plt.show()"
      ],
      "execution_count": 12,
      "outputs": [
        {
          "output_type": "display_data",
          "data": {
            "image/png": "[encoded data removed]",
            "text/plain": [
              "<Figure size 432x288 with 1 Axes>"
            ]
          },
          "metadata": {
            "tags": [],
            "needs_background": "light"
          }
        }
      ]
    },
    {
      "cell_type": "markdown",
      "metadata": {
        "id": "ffhAhgSHgkTQ",
        "colab_type": "text"
      },
      "source": [
        "<h3>Available Colors:</h3>\n",
        "<pre>\n",
        "<code>\n",
        "code       color\n",
        "________________________\n",
        "&#39;k&#39;         black\n",
        "&#39;b&#39;         blue\n",
        "&#39;c&#39;         cyan\n",
        "&#39;g&#39;         green\n",
        "&#39;m&#39;         magenta\n",
        "&#39;r&#39;         red\n",
        "&#39;w&#39;         white\n",
        "&#39;y&#39;         yellow\n",
        "</code>\n",
        "</pre>"
      ]
    },
    {
      "cell_type": "markdown",
      "metadata": {
        "id": "-eqnBm-qgkTR",
        "colab_type": "text"
      },
      "source": [
        "<p>Available Markers:</p>\n",
        "<table border=\"1\" class=\"docutils\">\n",
        "<colgroup>\n",
        "<col width=\"38%\" />\n",
        "<col width=\"62%\" />\n",
        "</colgroup>\n",
        "<thead valign=\"bottom\">\n",
        "<tr class=\"row-odd\"><th class=\"head\">marker</th>\n",
        "<th class=\"head\">description</th>\n",
        "</tr>\n",
        "</thead>\n",
        "<tbody valign=\"top\">\n",
        "<tr class=\"row-even\"><td>&#8221;.&#8221;</td>\n",
        "<td>point</td>\n",
        "</tr>\n",
        "<tr class=\"row-odd\"><td>&#8221;,&#8221;</td>\n",
        "<td>pixel</td>\n",
        "</tr>\n",
        "<tr class=\"row-even\"><td>&#8220;o&#8221;</td>\n",
        "<td>circle</td>\n",
        "</tr>\n",
        "<tr class=\"row-odd\"><td>&#8220;v&#8221;</td>\n",
        "<td>triangle_down</td>\n",
        "</tr>\n",
        "<tr class=\"row-even\"><td>&#8220;^&#8221;</td>\n",
        "<td>triangle_up</td>\n",
        "</tr>\n",
        "<tr class=\"row-odd\"><td>&#8220;&lt;&#8221;</td>\n",
        "<td>triangle_left</td>\n",
        "</tr>\n",
        "<tr class=\"row-even\"><td>&#8220;&gt;&#8221;</td>\n",
        "<td>triangle_right</td>\n",
        "</tr>\n",
        "<tr class=\"row-odd\"><td>&#8220;1&#8221;</td>\n",
        "<td>tri_down</td>\n",
        "</tr>\n",
        "<tr class=\"row-even\"><td>&#8220;2&#8221;</td>\n",
        "<td>tri_up</td>\n",
        "</tr>\n",
        "<tr class=\"row-odd\"><td>&#8220;3&#8221;</td>\n",
        "<td>tri_left</td>\n",
        "</tr>\n",
        "<tr class=\"row-even\"><td>&#8220;4&#8221;</td>\n",
        "<td>tri_right</td>\n",
        "</tr>\n",
        "<tr class=\"row-odd\"><td>&#8220;8&#8221;</td>\n",
        "<td>octagon</td>\n",
        "</tr>\n",
        "<tr class=\"row-even\"><td>&#8220;s&#8221;</td>\n",
        "<td>square</td>\n",
        "</tr>\n",
        "<tr class=\"row-odd\"><td>&#8220;p&#8221;</td>\n",
        "<td>pentagon</td>\n",
        "</tr>\n",
        "<tr class=\"row-even\"><td>&#8220;*&#8221;</td>\n",
        "<td>star</td>\n",
        "</tr>\n",
        "<tr class=\"row-odd\"><td>&#8220;h&#8221;</td>\n",
        "<td>hexagon1</td>\n",
        "</tr>\n",
        "<tr class=\"row-even\"><td>&#8220;H&#8221;</td>\n",
        "<td>hexagon2</td>\n",
        "</tr>\n",
        "<tr class=\"row-odd\"><td>&#8220;+&#8221;</td>\n",
        "<td>plus</td>\n",
        "</tr>\n",
        "<tr class=\"row-even\"><td>&#8220;x&#8221;</td>\n",
        "<td>x</td>\n",
        "</tr>\n",
        "<tr class=\"row-odd\"><td>&#8220;D&#8221;</td>\n",
        "<td>diamond</td>\n",
        "</tr>\n",
        "<tr class=\"row-even\"><td>&#8220;d&#8221;</td>\n",
        "<td>thin_diamond</td>\n",
        "</tr>\n",
        "<tr class=\"row-odd\"><td>&#8220;|&#8221;</td>\n",
        "<td>vline</td>\n",
        "</tr>\n",
        "<tr class=\"row-even\"><td>&#8220;_&#8221;</td>\n",
        "<td>hline</td>\n",
        "</tr>\n",
        "<tr class=\"row-odd\"><td>TICKLEFT</td>\n",
        "<td>tickleft</td>\n",
        "</tr>\n",
        "<tr class=\"row-even\"><td>TICKRIGHT</td>\n",
        "<td>tickright</td>\n",
        "</tr>\n",
        "<tr class=\"row-odd\"><td>TICKUP</td>\n",
        "<td>tickup</td>\n",
        "</tr>\n",
        "<tr class=\"row-even\"><td>TICKDOWN</td>\n",
        "<td>tickdown</td>\n",
        "</tr>\n",
        "<tr class=\"row-odd\"><td>CARETLEFT</td>\n",
        "<td>caretleft</td>\n",
        "</tr>\n",
        "<tr class=\"row-even\"><td>CARETRIGHT</td>\n",
        "<td>caretright</td>\n",
        "</tr>\n",
        "<tr class=\"row-odd\"><td>CARETUP</td>\n",
        "<td>caretup</td>\n",
        "</tr>\n",
        "<tr class=\"row-even\"><td>CARETDOWN</td>\n",
        "<td>caretdown</td>\n",
        "</tr>\n",
        "<tr class=\"row-odd\"><td>&#8220;None&#8221;</td>\n",
        "<td>nothing</td>\n",
        "</tr>\n",
        "<tr class=\"row-even\"><td>None</td>\n",
        "<td>nothing</td>\n",
        "</tr>\n",
        "<tr class=\"row-odd\"><td>&#8221; &#8220;</td>\n",
        "<td>nothing</td>\n",
        "</tr>\n",
        "<tr class=\"row-even\"><td>&#8220;&#8221;</td>\n",
        "<td>nothing</td>\n",
        "</tr>\n",
        "<tr class=\"row-odd\"><td><code class=\"docutils literal\"><span class=\"pre\">'$...$'</span></code></td>\n",
        "<td>render the string using mathtext.</td>\n",
        "</tr>\n",
        "<tr class=\"row-even\"><td><code class=\"xref py py-obj docutils literal\"><span class=\"pre\">verts</span></code></td>\n",
        "<td>a list of (x, y) pairs used for Path vertices.\n",
        "The center of the marker is located at (0,0) and\n",
        "the size is normalized.</td>\n",
        "</tr>\n",
        "<tr class=\"row-odd\"><td>path</td>\n",
        "<td>a <a class=\"reference internal\" href=\"path_api.html#matplotlib.path.Path\" title=\"matplotlib.path.Path\"><code class=\"xref py py-obj docutils literal\"><span class=\"pre\">Path</span></code></a> instance.</td>\n",
        "</tr>\n",
        "<tr class=\"row-even\"><td>(<code class=\"xref py py-obj docutils literal\"><span class=\"pre\">numsides</span></code>, <code class=\"xref py py-obj docutils literal\"><span class=\"pre\">style</span></code>, <code class=\"xref py py-obj docutils literal\"><span class=\"pre\">angle</span></code>)</td>\n",
        "<td>see below</td>\n",
        "</tr>\n",
        "</tbody>\n",
        "</table>"
      ]
    },
    {
      "cell_type": "code",
      "metadata": {
        "id": "V3D9FXrLgkTS",
        "colab_type": "code",
        "colab": {}
      },
      "source": [
        ""
      ],
      "execution_count": 12,
      "outputs": []
    }
  ]
}
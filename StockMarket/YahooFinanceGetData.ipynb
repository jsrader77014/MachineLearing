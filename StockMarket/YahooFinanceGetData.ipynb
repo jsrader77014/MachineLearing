{
  "nbformat": 4,
  "nbformat_minor": 0,
  "metadata": {
    "colab": {
      "name": "YahooFinanceGetData.ipynb",
      "provenance": [],
      "authorship_tag": "ABX9TyMUBZHC5CEWE3TIhMQTX91C",
      "include_colab_link": true
    },
    "kernelspec": {
      "name": "python3",
      "display_name": "Python 3"
    }
  },
  "cells": [
    {
      "cell_type": "markdown",
      "metadata": {
        "id": "view-in-github",
        "colab_type": "text"
      },
      "source": [
        "<a href=\"https://colab.research.google.com/github/jsrader77014/MachineLearing/blob/master/StockMarket/YahooFinanceGetData.ipynb\" target=\"_parent\"><img src=\"https://colab.research.google.com/assets/colab-badge.svg\" alt=\"Open In Colab\"/></a>"
      ]
    },
    {
      "cell_type": "code",
      "metadata": {
        "id": "bur7RirJ0lk1",
        "colab_type": "code",
        "colab": {
          "base_uri": "https://localhost:8080/",
          "height": 71
        },
        "outputId": "bf83282f-c692-4bd8-812e-6f16d9953d2d"
      },
      "source": [
        "from pandas_datareader import data as pdr\n",
        "from datetime import date\n",
        "import yfinance as yf\n",
        "yf.pdr_override()\n",
        "import pandas as pd\n"
      ],
      "execution_count": 1,
      "outputs": [
        {
          "output_type": "stream",
          "text": [
            "/usr/local/lib/python3.6/dist-packages/pandas_datareader/compat/__init__.py:7: FutureWarning: pandas.util.testing is deprecated. Use the functions in the public API at pandas.testing instead.\n",
            "  from pandas.util.testing import assert_frame_equal\n"
          ],
          "name": "stderr"
        }
      ]
    },
    {
      "cell_type": "code",
      "metadata": {
        "id": "1I3uxLbWFR4B",
        "colab_type": "code",
        "colab": {}
      },
      "source": [
        ""
      ],
      "execution_count": 1,
      "outputs": []
    },
    {
      "cell_type": "code",
      "metadata": {
        "id": "z9xfMmUK0mor",
        "colab_type": "code",
        "colab": {}
      },
      "source": [
        "# Tickers list\n",
        "# We can add and delete any ticker from the list to get desired ticker live data\n",
        "ticker_list=['DJIA', 'DOW', 'LB', 'EXPE', 'PXD', 'MCHP', 'CRM', 'JEC' , 'NRG', 'HFC', 'NOW']"
      ],
      "execution_count": 2,
      "outputs": []
    },
    {
      "cell_type": "code",
      "metadata": {
        "id": "vXiOiYd-0vPa",
        "colab_type": "code",
        "colab": {}
      },
      "source": [
        "# We can get data by our choice by giving days bracket\n",
        "from datetime import timedelta\n",
        "start_date= '2020-01-01'\n",
        "end_date=date.today()\n",
        "files=[]\n"
      ],
      "execution_count": 3,
      "outputs": []
    },
    {
      "cell_type": "code",
      "metadata": {
        "id": "zzvxGkBJ0y94",
        "colab_type": "code",
        "colab": {}
      },
      "source": [
        "def getData(ticker):\n",
        "  print(ticker)\n",
        "  print(start_date)\n",
        "  data = pdr.get_data_yahoo(ticker,start=start_date,end=end_date)\n",
        "  dataname= ticker\n",
        "  files.append(dataname)\n",
        "  SaveData(data, dataname)\n"
      ],
      "execution_count": 4,
      "outputs": []
    },
    {
      "cell_type": "code",
      "metadata": {
        "id": "zZCifYia1jGj",
        "colab_type": "code",
        "colab": {}
      },
      "source": [
        "# Create a data folder in your current dir.\n",
        "def SaveData(df, filename):\n",
        "  df.to_csv('./data/'+filename+'.csv')\n",
        "  df1= pd.read_csv('./data/'+ filename+'.csv')\n",
        "  print (df1.head())"
      ],
      "execution_count": 5,
      "outputs": []
    },
    {
      "cell_type": "code",
      "metadata": {
        "id": "aXGwkGWS14fZ",
        "colab_type": "code",
        "colab": {
          "base_uri": "https://localhost:8080/",
          "height": 1000
        },
        "outputId": "7b2f3934-4591-4639-c8d3-4708bdafe3ea"
      },
      "source": [
        "for ticker in ticker_list:\n",
        "  getData(ticker)"
      ],
      "execution_count": 6,
      "outputs": [
        {
          "output_type": "stream",
          "text": [
            "DJIA\n",
            "2020-01-01\n",
            "\r[*********************100%***********************]  1 of 1 completed\n",
            "         Date          Open  ...     Adj Close      Volume\n",
            "0  2020-01-02  28638.970703  ...  28868.800781  3458250000\n",
            "1  2020-01-03  28553.330078  ...  28634.880859  3461290000\n",
            "2  2020-01-06  28465.500000  ...  28703.380859  3674070000\n",
            "3  2020-01-07  28639.179688  ...  28583.679688  3420380000\n",
            "4  2020-01-08  28556.140625  ...  28745.089844  3720890000\n",
            "\n",
            "[5 rows x 7 columns]\n",
            "DOW\n",
            "2020-01-01\n",
            "[*********************100%***********************]  1 of 1 completed\n",
            "         Date       Open       High        Low      Close  Adj Close   Volume\n",
            "0  2020-01-02  55.230000  55.540001  53.639999  53.750000  51.158752  5145200\n",
            "1  2020-01-03  53.110001  53.599998  52.410000  52.419998  49.892872  5004300\n",
            "2  2020-01-06  52.320000  52.880001  52.000000  52.209999  49.692997  4293100\n",
            "3  2020-01-07  52.290001  53.064999  51.990002  52.189999  49.673958  5122800\n",
            "4  2020-01-08  52.410000  53.169998  51.919998  52.730000  50.187927  3629700\n",
            "LB\n",
            "2020-01-01\n",
            "[*********************100%***********************]  1 of 1 completed\n",
            "         Date       Open       High        Low      Close  Adj Close    Volume\n",
            "0  2020-01-02  18.250000  18.260000  17.270000  17.490000  17.276707   7396100\n",
            "1  2020-01-03  18.020000  19.090000  17.879999  18.860001  18.630001  16167000\n",
            "2  2020-01-06  18.700001  18.719999  18.020000  18.160000  17.938538   8907100\n",
            "3  2020-01-07  18.129999  18.549999  17.889999  18.020000  17.800245   5726800\n",
            "4  2020-01-08  18.200001  18.510000  17.900000  18.150000  17.928658   5397900\n",
            "EXPE\n",
            "2020-01-01\n",
            "[*********************100%***********************]  1 of 1 completed\n",
            "         Date        Open        High  ...       Close   Adj Close   Volume\n",
            "0  2020-01-02  108.870003  111.150002  ...  110.980003  110.569191  3481200\n",
            "1  2020-01-03  109.589996  110.440002  ...  109.129997  108.726028  2027100\n",
            "2  2020-01-06  108.160004  109.070000  ...  108.739998  108.337479  2218300\n",
            "3  2020-01-07  108.680000  110.300003  ...  110.019997  109.612740  1813100\n",
            "4  2020-01-08  110.199997  110.980003  ...  108.620003  108.217926  1990000\n",
            "\n",
            "[5 rows x 7 columns]\n",
            "PXD\n",
            "2020-01-01\n",
            "[*********************100%***********************]  1 of 1 completed\n",
            "         Date        Open        High  ...       Close   Adj Close   Volume\n",
            "0  2020-01-02  152.020004  153.149994  ...  152.339996  150.236328   995700\n",
            "1  2020-01-03  155.000000  156.419998  ...  153.350006  151.232376  1782100\n",
            "2  2020-01-06  154.910004  159.009995  ...  158.110001  155.926651  2126300\n",
            "3  2020-01-07  157.550003  157.800003  ...  156.949997  154.782669  1343700\n",
            "4  2020-01-08  157.960007  158.889999  ...  152.080002  149.979919  2125400\n",
            "\n",
            "[5 rows x 7 columns]\n",
            "MCHP\n",
            "2020-01-01\n",
            "[*********************100%***********************]  1 of 1 completed\n",
            "         Date        Open        High  ...       Close   Adj Close    Volume\n",
            "0  2020-01-02  106.029999  108.089996  ...  107.599998  106.429192   4858900\n",
            "1  2020-01-03  105.400002  106.849998  ...  105.239998  104.094864  10014900\n",
            "2  2020-01-06  103.660004  104.230003  ...  103.730003  102.601295   2015800\n",
            "3  2020-01-07  107.900002  110.800003  ...  110.690002  109.485565   6701400\n",
            "4  2020-01-08  110.599998  110.760002  ...  109.290001  108.100800   2403100\n",
            "\n",
            "[5 rows x 7 columns]\n",
            "CRM\n",
            "2020-01-01\n",
            "[*********************100%***********************]  1 of 1 completed\n",
            "         Date        Open        High  ...       Close   Adj Close   Volume\n",
            "0  2020-01-02  163.919998  167.070007  ...  166.990005  166.990005  5189300\n",
            "1  2020-01-03  165.059998  166.770004  ...  166.169998  166.169998  3205400\n",
            "2  2020-01-06  165.000000  173.669998  ...  173.449997  173.449997  8836200\n",
            "3  2020-01-07  173.229996  176.869995  ...  176.000000  176.000000  8272700\n",
            "4  2020-01-08  175.229996  178.850006  ...  177.330002  177.330002  7225100\n",
            "\n",
            "[5 rows x 7 columns]\n",
            "JEC\n",
            "2020-01-01\n",
            "[*********************100%***********************]  1 of 1 completed\n",
            "\n",
            "1 Failed download:\n",
            "- JEC: No data found for this date range, symbol may be delisted\n",
            "Empty DataFrame\n",
            "Columns: [Date, Open, High, Low, Close, Adj Close, Volume]\n",
            "Index: []\n",
            "NRG\n",
            "2020-01-01\n",
            "[*********************100%***********************]  1 of 1 completed\n",
            "         Date       Open       High        Low      Close  Adj Close   Volume\n",
            "0  2020-01-02  39.830002  39.990002  38.590000  38.799999  37.815304  2581100\n",
            "1  2020-01-03  38.570000  38.790001  38.009998  38.200001  37.230534  2751300\n",
            "2  2020-01-06  38.139999  38.180000  37.259998  37.380001  36.431343  2605600\n",
            "3  2020-01-07  37.220001  37.580002  36.820000  36.869999  35.934284  2446000\n",
            "4  2020-01-08  36.880001  37.000000  36.240002  36.860001  35.924541  3594200\n",
            "HFC\n",
            "2020-01-01\n",
            "[*********************100%***********************]  1 of 1 completed\n",
            "         Date       Open       High        Low      Close  Adj Close   Volume\n",
            "0  2020-01-02  51.090000  51.490002  50.900002  51.389999  49.701134  1268900\n",
            "1  2020-01-03  51.099998  51.750000  47.660000  48.180000  46.596626  3178400\n",
            "2  2020-01-06  47.849998  48.250000  47.040001  48.000000  46.422543  2523400\n",
            "3  2020-01-07  47.150002  48.480000  47.150002  48.349998  46.761036  1475400\n",
            "4  2020-01-08  48.340000  48.349998  46.869999  47.709999  46.142075  1842800\n",
            "NOW\n",
            "2020-01-01\n",
            "[*********************100%***********************]  1 of 1 completed\n",
            "         Date        Open        High  ...       Close   Adj Close   Volume\n",
            "0  2020-01-02  284.959991  291.679993  ...  291.239990  291.239990  1831100\n",
            "1  2020-01-03  286.899994  293.059998  ...  291.100006  291.100006  1135800\n",
            "2  2020-01-06  285.190002  293.410004  ...  292.869995  292.869995  1474000\n",
            "3  2020-01-07  293.220001  294.579987  ...  292.910004  292.910004  1438400\n",
            "4  2020-01-08  294.559998  297.690002  ...  295.649994  295.649994  1740800\n",
            "\n",
            "[5 rows x 7 columns]\n"
          ],
          "name": "stdout"
        }
      ]
    },
    {
      "cell_type": "code",
      "metadata": {
        "id": "L-R1g3Ks3QS5",
        "colab_type": "code",
        "colab": {}
      },
      "source": [
        ""
      ],
      "execution_count": 6,
      "outputs": []
    },
    {
      "cell_type": "code",
      "metadata": {
        "id": "IMd1TcwBA438",
        "colab_type": "code",
        "colab": {}
      },
      "source": [
        ""
      ],
      "execution_count": 6,
      "outputs": []
    }
  ]
}